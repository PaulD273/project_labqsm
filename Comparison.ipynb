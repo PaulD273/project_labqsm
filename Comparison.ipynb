{
 "cells": [
  {
   "cell_type": "markdown",
   "id": "854df524-94cd-407e-834e-dbce1e274941",
   "metadata": {},
   "source": [
    "# Comparison"
   ]
  },
  {
   "cell_type": "code",
   "execution_count": 1,
   "id": "f59935cf-a80c-45eb-b921-d6720242dbcc",
   "metadata": {},
   "outputs": [],
   "source": [
    "import numpy as np\n",
    "import matplotlib.pyplot as plt"
   ]
  },
  {
   "cell_type": "code",
   "execution_count": 2,
   "id": "b44a0632-5c73-4d71-adb4-cf79a03a489e",
   "metadata": {},
   "outputs": [],
   "source": [
    "a_si = 10.207932774556962\n",
    "gap_si = 0.5086000000000004\n",
    "a_gaas = 10.481823421384428\n",
    "gap_gaas = 1.351\n",
    "a_zns = 9.45186474166746\n",
    "gap_zns = 3.1419000000000006"
   ]
  },
  {
   "cell_type": "code",
   "execution_count": 4,
   "id": "d969c76b-fd1b-4e84-814a-ff6c81bd3f62",
   "metadata": {},
   "outputs": [],
   "source": [
    "gaps = np.array([gap_si, gap_gaas, gap_zns])\n",
    "a = np.array([a_si, a_gaas, a_zns])"
   ]
  },
  {
   "cell_type": "code",
   "execution_count": 35,
   "id": "b06c931a-1d87-456e-8d32-514bf55ce3e9",
   "metadata": {},
   "outputs": [
    {
     "data": {
      "text/plain": [
       "Text(290, 50, 'Si')"
      ]
     },
     "execution_count": 35,
     "metadata": {},
     "output_type": "execute_result"
    },
    {
     "data": {
      "image/png": "[encoded data removed]",
      "text/plain": [
       "<Figure size 432x288 with 1 Axes>"
      ]
     },
     "metadata": {
      "needs_background": "light"
     },
     "output_type": "display_data"
    }
   ],
   "source": [
    "fig, ax = plt.subplots()\n",
    "plt.scatter(a, gaps)\n",
    "plt.ylabel(r\"Energy gap [eV]\")\n",
    "plt.xlabel(r\"Lattice parameter [Bohr]\")\n",
    "ax.annotate('ZnS',\n",
    "            xy=(80, 240), xycoords='figure pixels', fontweight='bold')\n",
    "ax.annotate('GaAs',\n",
    "            xy=(320, 110), xycoords='figure pixels', fontweight='bold')\n",
    "ax.annotate('Si',\n",
    "            xy=(290, 50), xycoords='figure pixels', fontweight='bold')"
   ]
  },
  {
   "cell_type": "code",
   "execution_count": null,
   "id": "056864a5-a599-4a81-8a30-196f1567c864",
   "metadata": {},
   "outputs": [],
   "source": []
  }
 ],
 "metadata": {
  "kernelspec": {
   "display_name": "Python 3 (ipykernel)",
   "language": "python",
   "name": "python3"
  },
  "language_info": {
   "codemirror_mode": {
    "name": "ipython",
    "version": 3
   },
   "file_extension": ".py",
   "mimetype": "text/x-python",
   "name": "python",
   "nbconvert_exporter": "python",
   "pygments_lexer": "ipython3",
   "version": "3.11.0"
  }
 },
 "nbformat": 4,
 "nbformat_minor": 5
}
