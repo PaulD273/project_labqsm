{
 "cells": [
  {
   "cell_type": "markdown",
   "id": "48b556b0-ad82-4a48-a589-75576e6eeb6d",
   "metadata": {},
   "source": [
    "# Gallium arsenide"
   ]
  },
  {
   "cell_type": "markdown",
   "id": "670809c8-10aa-4f41-9d96-a2f4d647b414",
   "metadata": {},
   "source": [
    "Gallium arsenide has a zincblende structure, i.e. diamond cubic with a basis of atoms of different types (ibrav = 2).\n",
    "\n",
    "Lattice parameter (alat) = 10.682904472 Bohr, obtained from Haynes."
   ]
  },
  {
   "cell_type": "raw",
   "id": "fe614eb7-7942-4177-9c5b-5619562c3458",
   "metadata": {},
   "source": [
    "element=\"Ga\"\n",
    "pseudo_type=\"NC\"\n",
    "relativistic=\"scalar\"\n",
    "core_correction=\"T\"\n",
    "functional=\"SLA  PW   NOGX NOGC\"\n",
    "z_valence=\"   13.00\""
   ]
  },
  {
   "cell_type": "raw",
   "id": "d03b81fc-579c-411a-b14c-55f6bb874fc0",
   "metadata": {},
   "source": [
    "element=\"As\"\n",
    "pseudo_type=\"NC\"\n",
    "relativistic=\"scalar\"\n",
    "core_correction=\"T\"\n",
    "functional=\"SLA  PW   NOGX NOGC\"\n",
    "z_valence=\"   15.00\""
   ]
  },
  {
   "cell_type": "code",
   "execution_count": null,
   "id": "d4d96256-6635-4450-8fca-13b367b29581",
   "metadata": {},
   "outputs": [],
   "source": []
  }
 ],
 "metadata": {
  "kernelspec": {
   "display_name": "Python 3 (ipykernel)",
   "language": "python",
   "name": "python3"
  },
  "language_info": {
   "codemirror_mode": {
    "name": "ipython",
    "version": 3
   },
   "file_extension": ".py",
   "mimetype": "text/x-python",
   "name": "python",
   "nbconvert_exporter": "python",
   "pygments_lexer": "ipython3",
   "version": "3.11.0"
  }
 },
 "nbformat": 4,
 "nbformat_minor": 5
}
