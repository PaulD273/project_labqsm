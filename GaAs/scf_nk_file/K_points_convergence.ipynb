{
 "cells": [
  {
   "cell_type": "markdown",
   "id": "e06d12d3-7740-4e51-8afd-1ab473ece476",
   "metadata": {},
   "source": [
    "# K-points convergence"
   ]
  },
  {
   "cell_type": "code",
   "execution_count": 1,
   "id": "8bded6d9-4ecc-40f0-a212-ea51b249283b",
   "metadata": {},
   "outputs": [],
   "source": [
    "import numpy as np\n",
    "import csv\n",
    "import matplotlib.pyplot as plt"
   ]
  },
  {
   "cell_type": "code",
   "execution_count": 2,
   "id": "f6a6b048-42b9-4915-bc91-7c53b641ea92",
   "metadata": {},
   "outputs": [],
   "source": [
    "#import homemade python function\n",
    "import sys \n",
    "import os\n",
    "sys.path.append(os.path.abspath(\"/home/paolo/project_labqsm\"))\n",
    "import read_file "
   ]
  },
  {
   "cell_type": "code",
   "execution_count": 3,
   "id": "f884c691-4af4-4559-bb01-eefe528284cf",
   "metadata": {},
   "outputs": [
    {
     "name": "stdout",
     "output_type": "stream",
     "text": [
      "[[-191.00732975    8.            3.5       ]\n",
      " [-191.01870661   16.            3.55      ]\n",
      " [-191.02019469   29.            6.55      ]\n",
      " [-191.02053947   72.           13.19      ]]\n"
     ]
    }
   ],
   "source": [
    "f = read_file.read_file('energy_nk.txt')\n",
    "print(f)"
   ]
  },
  {
   "cell_type": "code",
   "execution_count": 4,
   "id": "efe979c4-aa9c-4c8d-a8a5-9f3a9e676cf1",
   "metadata": {},
   "outputs": [
    {
     "data": {
      "text/plain": [
       "array([-191.00732975, -191.01870661, -191.02019469, -191.02053947])"
      ]
     },
     "execution_count": 4,
     "metadata": {},
     "output_type": "execute_result"
    }
   ],
   "source": [
    "f[:,0]"
   ]
  },
  {
   "cell_type": "code",
   "execution_count": 5,
   "id": "66c0c114-c575-4fc3-9307-b198dc7367e1",
   "metadata": {},
   "outputs": [
    {
     "data": {
      "text/plain": [
       "Text(0, 0.5, 'Convergent energy [Ry]')"
      ]
     },
     "execution_count": 5,
     "metadata": {},
     "output_type": "execute_result"
    },
    {
     "data": {
      "image/png": "[encoded data removed]",
      "text/plain": [
       "<Figure size 432x288 with 1 Axes>"
      ]
     },
     "metadata": {
      "needs_background": "light"
     },
     "output_type": "display_data"
    }
   ],
   "source": [
    "plt.plot(f[:,1],f[:,0],marker=\"o\")\n",
    "plt.xlabel(r\"IBZ k-points\")\n",
    "plt.ylabel(r\"Convergent energy [Ry]\")\n",
    "#plt.legend()"
   ]
  },
  {
   "cell_type": "code",
   "execution_count": 6,
   "id": "9cb3725a-8ad4-466a-974d-47634dda110e",
   "metadata": {},
   "outputs": [
    {
     "data": {
      "text/plain": [
       "Text(0.5, 0, 'IBZ k-points')"
      ]
     },
     "execution_count": 6,
     "metadata": {},
     "output_type": "execute_result"
    },
    {
     "data": {
      "image/png": "[encoded data removed]",
      "text/plain": [
       "<Figure size 432x288 with 1 Axes>"
      ]
     },
     "metadata": {
      "needs_background": "light"
     },
     "output_type": "display_data"
    }
   ],
   "source": [
    "plt.plot(f[:,1],f[:,2],marker=\"o\")\n",
    "plt.ylabel(r\"CPU time[s]\")\n",
    "plt.xlabel(r\"IBZ k-points\")"
   ]
  },
  {
   "cell_type": "code",
   "execution_count": null,
   "id": "4b0fc1f1-30ab-4eb3-b707-9be6c3af54ff",
   "metadata": {},
   "outputs": [],
   "source": []
  },
  {
   "cell_type": "markdown",
   "id": "88140da4-bd51-4cce-9778-96fb987efd4a",
   "metadata": {},
   "source": [
    "## Total energy difference between consecutive k-point grid runs"
   ]
  },
  {
   "cell_type": "markdown",
   "id": "5cd58a9a-f48f-4416-9740-17f06df063c9",
   "metadata": {},
   "source": [
    "Total energy difference between $\\mathbf{nk=4}$ and $\\mathbf{nk=6}$:"
   ]
  },
  {
   "cell_type": "code",
   "execution_count": 7,
   "id": "1bee902c-44d7-4e3b-a2ea-660198294346",
   "metadata": {},
   "outputs": [
    {
     "name": "stdout",
     "output_type": "stream",
     "text": [
      "0.011376860000012812\n"
     ]
    }
   ],
   "source": [
    "E_46=f[0,0]-f[1,0]\n",
    "print(E_46)"
   ]
  },
  {
   "cell_type": "markdown",
   "id": "fe42d3fc-5980-4a04-bf4c-c522784ace50",
   "metadata": {},
   "source": [
    "Total energy difference between $\\mathbf{nk=6}$ and $\\mathbf{nk=8}$:"
   ]
  },
  {
   "cell_type": "code",
   "execution_count": 8,
   "id": "4b8044ec-4866-4735-988f-0a3f06933732",
   "metadata": {},
   "outputs": [
    {
     "name": "stdout",
     "output_type": "stream",
     "text": [
      "0.001488080000001446\n"
     ]
    }
   ],
   "source": [
    "E_68=f[1,0]-f[2,0]\n",
    "print(E_68)"
   ]
  },
  {
   "cell_type": "markdown",
   "id": "93bb848f-2b94-4d02-ae06-a60da2922148",
   "metadata": {},
   "source": [
    "Total energy difference between $\\mathbf{nk=8}$ and $\\mathbf{nk=12}$:"
   ]
  },
  {
   "cell_type": "code",
   "execution_count": 9,
   "id": "0bc52dd3-3e30-435a-bf58-552fca344d37",
   "metadata": {},
   "outputs": [
    {
     "name": "stdout",
     "output_type": "stream",
     "text": [
      "0.000344779999977618\n"
     ]
    }
   ],
   "source": [
    "E_812=f[2,0]-f[3,0]\n",
    "print(E_812)"
   ]
  },
  {
   "cell_type": "code",
   "execution_count": null,
   "id": "e2ada63b-1dfc-40ee-ae37-5ea070b434cb",
   "metadata": {},
   "outputs": [],
   "source": []
  },
  {
   "cell_type": "markdown",
   "id": "f72a07eb-3bd4-47c8-85dd-c7ad17996394",
   "metadata": {},
   "source": [
    "The difference between total energies becomes to flatten out. Increasing the spatial resolution in reciprocal space starts to bring little advantage ($3*10^{-4}$ Ry) while the computational cost almost doubled (from 8.12s to 22.31s).\n",
    "\n",
    "$\\mathbf{nk=8}$ was deemed as an appropriate grid spacing."
   ]
  },
  {
   "cell_type": "code",
   "execution_count": null,
   "id": "3e8ad7a5-fd44-4fc5-93b9-0abe96d5ba94",
   "metadata": {},
   "outputs": [],
   "source": []
  }
 ],
 "metadata": {
  "kernelspec": {
   "display_name": "Python 3 (ipykernel)",
   "language": "python",
   "name": "python3"
  },
  "language_info": {
   "codemirror_mode": {
    "name": "ipython",
    "version": 3
   },
   "file_extension": ".py",
   "mimetype": "text/x-python",
   "name": "python",
   "nbconvert_exporter": "python",
   "pygments_lexer": "ipython3",
   "version": "3.11.0"
  }
 },
 "nbformat": 4,
 "nbformat_minor": 5
}
