{
 "cells": [
  {
   "cell_type": "raw",
   "id": "f21d01e6-3a8d-44d5-8fe0-579783ac402e",
   "metadata": {},
   "source": [
    "CELL_PARAMETERS (alat= 10.88309345)\n",
    "  -0.466585633  -0.000000000   0.466585633\n",
    "  -0.000000000   0.466585633   0.466585633\n",
    "  -0.466585633   0.466585633   0.000000000"
   ]
  },
  {
   "cell_type": "code",
   "execution_count": 1,
   "id": "38a06323-657b-4989-bbe2-ef99198b576a",
   "metadata": {},
   "outputs": [
    {
     "data": {
      "text/plain": [
       "10.155790092732808"
      ]
     },
     "execution_count": 1,
     "metadata": {},
     "output_type": "execute_result"
    }
   ],
   "source": [
    "10.88309345*0.466585633/0.5"
   ]
  },
  {
   "cell_type": "code",
   "execution_count": null,
   "id": "d4f7c08d-5f2f-492e-9f41-6c48d1a1996e",
   "metadata": {},
   "outputs": [],
   "source": []
  }
 ],
 "metadata": {
  "kernelspec": {
   "display_name": "Python 3 (ipykernel)",
   "language": "python",
   "name": "python3"
  },
  "language_info": {
   "codemirror_mode": {
    "name": "ipython",
    "version": 3
   },
   "file_extension": ".py",
   "mimetype": "text/x-python",
   "name": "python",
   "nbconvert_exporter": "python",
   "pygments_lexer": "ipython3",
   "version": "3.11.0"
  }
 },
 "nbformat": 4,
 "nbformat_minor": 5
}
