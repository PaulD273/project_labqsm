{
 "cells": [
  {
   "cell_type": "markdown",
   "id": "22fb11af-8c2f-42a1-be0a-ac4b6ebe93e8",
   "metadata": {},
   "source": [
    "## Gallium arsenide"
   ]
  },
  {
   "cell_type": "markdown",
   "id": "5e247140-faef-428d-a34d-b7ef3af0bffa",
   "metadata": {},
   "source": [
    "Doing a vc-relax calc starting from a -5% stretched lattice parameter to obtain the optimal parameter"
   ]
  },
  {
   "cell_type": "code",
   "execution_count": 3,
   "id": "efe5e34b-4ec1-45d0-8806-ab3f51b34f39",
   "metadata": {},
   "outputs": [],
   "source": [
    "alat0 = 10.68309422"
   ]
  },
  {
   "cell_type": "code",
   "execution_count": 5,
   "id": "6a040580-c57f-4b75-8508-89b034a9d4b2",
   "metadata": {},
   "outputs": [
    {
     "data": {
      "text/plain": [
       "10.148939509"
      ]
     },
     "execution_count": 5,
     "metadata": {},
     "output_type": "execute_result"
    }
   ],
   "source": [
    "alat_str = alat0 - alat0*.05\n",
    "alat_str"
   ]
  },
  {
   "cell_type": "markdown",
   "id": "19723f8a-3032-43e6-b661-4ee8b0677948",
   "metadata": {},
   "source": [
    "Final coordinates obtained through the vc-relax calculation"
   ]
  },
  {
   "cell_type": "raw",
   "id": "79f0dd53-38df-43bc-a9e0-b41e759fde5c",
   "metadata": {},
   "source": [
    "CELL_PARAMETERS (alat= 10.14893951)\n",
    "  -0.522361829   0.000000000   0.522361829\n",
    "  -0.000000000   0.522361829   0.522361829\n",
    "  -0.522361829   0.522361829   0.000000000"
   ]
  },
  {
   "cell_type": "code",
   "execution_count": 7,
   "id": "60f1e84e-b8d7-49e2-bbb1-de13e2fc3bff",
   "metadata": {},
   "outputs": [
    {
     "data": {
      "text/plain": [
       "10.602837208663205"
      ]
     },
     "execution_count": 7,
     "metadata": {},
     "output_type": "execute_result"
    }
   ],
   "source": [
    "alat_rel = alat_str * 0.522361829*1/0.5\n",
    "alat_rel"
   ]
  },
  {
   "cell_type": "code",
   "execution_count": null,
   "id": "edc5710a-7758-4b47-b0a6-e5289df0500e",
   "metadata": {},
   "outputs": [],
   "source": []
  },
  {
   "cell_type": "markdown",
   "id": "5b84bc32-b887-4d7c-b774-8423f8e64701",
   "metadata": {},
   "source": [
    "## Dos"
   ]
  },
  {
   "cell_type": "markdown",
   "id": "6e91f0a3-c467-4f86-822c-75f6e554a8ce",
   "metadata": {},
   "source": [
    "9 occupied bands? Why?"
   ]
  },
  {
   "cell_type": "raw",
   "id": "f8d27b60-2564-46c4-8639-10777593d966",
   "metadata": {},
   "source": [
    "highest occupied, lowest unoccupied level (ev):     6.7405    7.2054"
   ]
  },
  {
   "cell_type": "markdown",
   "id": "ae52be8a-7d16-4a11-9204-6f604d13d3c2",
   "metadata": {},
   "source": [
    "![bands](./bands_gaas_10.png)"
   ]
  },
  {
   "cell_type": "markdown",
   "id": "62ef2da3-2625-4a6c-bd16-134e4c1b278c",
   "metadata": {},
   "source": [
    "![dos](./dos_gaas_10.png)"
   ]
  }
 ],
 "metadata": {
  "kernelspec": {
   "display_name": "Python 3 (ipykernel)",
   "language": "python",
   "name": "python3"
  },
  "language_info": {
   "codemirror_mode": {
    "name": "ipython",
    "version": 3
   },
   "file_extension": ".py",
   "mimetype": "text/x-python",
   "name": "python",
   "nbconvert_exporter": "python",
   "pygments_lexer": "ipython3",
   "version": "3.11.0"
  }
 },
 "nbformat": 4,
 "nbformat_minor": 5
}
