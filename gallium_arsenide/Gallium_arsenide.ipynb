{
 "cells": [
  {
   "cell_type": "markdown",
   "id": "48b556b0-ad82-4a48-a589-75576e6eeb6d",
   "metadata": {},
   "source": [
    "# Gallium arsenide"
   ]
  },
  {
   "cell_type": "markdown",
   "id": "670809c8-10aa-4f41-9d96-a2f4d647b414",
   "metadata": {},
   "source": [
    "Gallium arsenide has a zincblende structure, i.e. diamond cubic with a basis of atoms of different types (ibrav = 2).\n",
    "\n",
    "Lattice parameter (alat) = 10.682904472 Bohr, obtained from Haynes."
   ]
  },
  {
   "cell_type": "raw",
   "id": "fe614eb7-7942-4177-9c5b-5619562c3458",
   "metadata": {},
   "source": [
    "element=\"Ga\"\n",
    "pseudo_type=\"NC\"\n",
    "relativistic=\"scalar\"\n",
    "is_ultrasoft=\"F\"\n",
    "is_paw=\"F\"\n",
    "core_correction=\"F\"\n",
    "functional=\"PBE\"\n",
    "z_valence=\"   13.00\""
   ]
  },
  {
   "cell_type": "raw",
   "id": "d03b81fc-579c-411a-b14c-55f6bb874fc0",
   "metadata": {},
   "source": [
    "element=\"As\"\n",
    "pseudo_type=\"NC\"\n",
    "relativistic=\"scalar\"\n",
    "is_ultrasoft=\"F\"\n",
    "is_paw=\"F\"\n",
    "core_correction=\"F\"\n",
    "functional=\"PBE\"\n",
    "z_valence=\"    5.00\""
   ]
  },
  {
   "cell_type": "markdown",
   "id": "055ac8e1-7e87-4d30-aa20-272a61b1e4bd",
   "metadata": {},
   "source": [
    "## K-points convergence"
   ]
  },
  {
   "cell_type": "markdown",
   "id": "a8cb11b8-1b5a-4ea7-be23-e2d1b2d1a972",
   "metadata": {},
   "source": [
    "A convergence study for kpoint grid was initially performed with fixed ecut = 40 Ry. Input files for grids of 4, 6, 8 and 12 nk were generated through a BASH script, namely $\\mathbf{kpoints.sh}$.\n",
    "These input files and the corresponding output files are stored in the $\\mathbf{scf\\_nk\\_file}$ directory. The extraction of important data (total energy, IBZ points and computational time) from the input files was automatized through the implementation of the BASH script $\\mathbf{extractk.sh}$, which reports the data in the $\\mathbf{energy\\_nk.txt}$ file.\n",
    "The data contained into energy_nk.txt are then processes using a python code.\n",
    "\n",
    "A more detailed proceding is reported in the $\\mathbf{K\\_points\\_convergence.ipynb}$ file in the scf_nk_file directory."
   ]
  },
  {
   "cell_type": "markdown",
   "id": "3e607f8b-081a-43f5-a27d-c3573b338983",
   "metadata": {},
   "source": [
    "## Energy cutoff convergence"
   ]
  },
  {
   "cell_type": "markdown",
   "id": "44e0ed4e-b48f-4cdf-a30d-a7b649ffe398",
   "metadata": {},
   "source": [
    "Having fixed a certain kpoint grid with $nk=8$, a number of pw calculations were run to achieve convergence wrt cutoff energy differences. \n",
    "\n",
    "A series of calculations were performed, initially with an unperturbed lattice parameter and then with a 2% stretch. The relative total energies of the two subsystems were subtracted to reach convergence."
   ]
  },
  {
   "cell_type": "code",
   "execution_count": 2,
   "id": "e3754031-8498-407e-99d5-ec786b2de06c",
   "metadata": {},
   "outputs": [
    {
     "data": {
      "text/plain": [
       "10.896562561440001"
      ]
     },
     "execution_count": 2,
     "metadata": {},
     "output_type": "execute_result"
    }
   ],
   "source": [
    "10.682904472*2/100+10.682904472"
   ]
  },
  {
   "cell_type": "code",
   "execution_count": null,
   "id": "00b1f181-824e-47f3-b0b5-66b8aa43f9dc",
   "metadata": {},
   "outputs": [],
   "source": []
  }
 ],
 "metadata": {
  "kernelspec": {
   "display_name": "Python 3 (ipykernel)",
   "language": "python",
   "name": "python3"
  },
  "language_info": {
   "codemirror_mode": {
    "name": "ipython",
    "version": 3
   },
   "file_extension": ".py",
   "mimetype": "text/x-python",
   "name": "python",
   "nbconvert_exporter": "python",
   "pygments_lexer": "ipython3",
   "version": "3.11.0"
  }
 },
 "nbformat": 4,
 "nbformat_minor": 5
}
