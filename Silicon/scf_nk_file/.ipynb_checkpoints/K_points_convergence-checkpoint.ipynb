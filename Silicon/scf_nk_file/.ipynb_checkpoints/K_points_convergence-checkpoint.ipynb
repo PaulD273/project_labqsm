{
 "cells": [
  {
   "cell_type": "code",
   "execution_count": 1,
   "id": "8bded6d9-4ecc-40f0-a212-ea51b249283b",
   "metadata": {},
   "outputs": [],
   "source": [
    "import numpy as np\n",
    "import csv"
   ]
  },
  {
   "cell_type": "code",
   "execution_count": null,
   "id": "f6a6b048-42b9-4915-bc91-7c53b641ea92",
   "metadata": {},
   "outputs": [],
   "source": []
  },
  {
   "cell_type": "code",
   "execution_count": 20,
   "id": "51fe993c-220a-4fbb-ba66-8a5f35d9330b",
   "metadata": {},
   "outputs": [],
   "source": [
    "def read_file(en_file):\n",
    "    '''This function takes in a csv file, combs through it, stores its elements in a list which is eventually converted to a numpy array of floats'''\n",
    "    data = []\n",
    "    with open(en_file,'r') as file : \n",
    "        csv_reader = csv.reader(file, delimiter=',')\n",
    "        for row in csv_reader:\n",
    "            data.append(row)\n",
    "            \n",
    "        f=np.asarray(data, dtype='f8')\n",
    "        \n",
    "    return f"
   ]
  },
  {
   "cell_type": "code",
   "execution_count": 26,
   "id": "44890ae3-996f-49c2-8973-3e56c8fe6c9f",
   "metadata": {},
   "outputs": [
    {
     "name": "stdout",
     "output_type": "stream",
     "text": [
      "[[-7.69304732  4.          0.23      ]\n",
      " [-7.69806929  6.          0.36      ]\n",
      " [-7.69833181  8.          0.75      ]\n",
      " [-7.69855838 12.          1.7       ]]\n"
     ]
    }
   ],
   "source": [
    "f = read_file('energy_nk.txt')\n",
    "print(f)"
   ]
  },
  {
   "cell_type": "code",
   "execution_count": 23,
   "id": "66c0c114-c575-4fc3-9307-b198dc7367e1",
   "metadata": {},
   "outputs": [
    {
     "data": {
      "text/plain": [
       "Text(0, 0.5, 'Convergent energy [Ry]')"
      ]
     },
     "execution_count": 23,
     "metadata": {},
     "output_type": "execute_result"
    },
    {
     "data": {
      "image/png": "[encoded data removed]",
      "text/plain": [
       "<Figure size 432x288 with 1 Axes>"
      ]
     },
     "metadata": {
      "needs_background": "light"
     },
     "output_type": "display_data"
    }
   ],
   "source": [
    "import matplotlib.pyplot as plt\n",
    "\n",
    "plt.plot(f[:,1],f[:,0],marker=\"o\")\n",
    "plt.xlabel(r\"k points grid\")\n",
    "plt.ylabel(r\"Convergent energy [Ry]\")\n",
    "#plt.legend()"
   ]
  },
  {
   "cell_type": "code",
   "execution_count": 24,
   "id": "4b8044ec-4866-4735-988f-0a3f06933732",
   "metadata": {},
   "outputs": [
    {
     "data": {
      "text/plain": [
       "0.00026251999999971076"
      ]
     },
     "execution_count": 24,
     "metadata": {},
     "output_type": "execute_result"
    }
   ],
   "source": [
    "f[1,0]-f[2,0]"
   ]
  },
  {
   "cell_type": "code",
   "execution_count": 25,
   "id": "0bc52dd3-3e30-435a-bf58-552fca344d37",
   "metadata": {},
   "outputs": [
    {
     "data": {
      "text/plain": [
       "0.00022656999999970395"
      ]
     },
     "execution_count": 25,
     "metadata": {},
     "output_type": "execute_result"
    }
   ],
   "source": [
    "f[2,0]-f[3,0]"
   ]
  },
  {
   "cell_type": "code",
   "execution_count": null,
   "id": "b548cd95-d869-4713-b891-9027eb25fd1f",
   "metadata": {},
   "outputs": [],
   "source": []
  }
 ],
 "metadata": {
  "kernelspec": {
   "display_name": "Python 3 (ipykernel)",
   "language": "python",
   "name": "python3"
  },
  "language_info": {
   "codemirror_mode": {
    "name": "ipython",
    "version": 3
   },
   "file_extension": ".py",
   "mimetype": "text/x-python",
   "name": "python",
   "nbconvert_exporter": "python",
   "pygments_lexer": "ipython3",
   "version": "3.11.0"
  }
 },
 "nbformat": 4,
 "nbformat_minor": 5
}
