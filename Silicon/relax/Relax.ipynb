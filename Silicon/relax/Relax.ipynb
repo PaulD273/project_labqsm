{
 "cells": [
  {
   "cell_type": "markdown",
   "id": "37110719-ae89-4f19-b4a8-352bf2ebaf98",
   "metadata": {},
   "source": [
    "# Relaxation"
   ]
  },
  {
   "cell_type": "markdown",
   "id": "d1eb8873-79fb-4ead-9a04-302b31905f07",
   "metadata": {},
   "source": [
    "A vc-relax calculation was permormed to obtain the relaxed lattice parameter. We started from a lattice parameter stretched by 5%."
   ]
  },
  {
   "cell_type": "raw",
   "id": "6252656e-fa15-4920-be56-4740ba43a0a1",
   "metadata": {},
   "source": [
    "CELL_PARAMETERS (alat= 10.77625694)\n",
    "  -0.473630725  -0.000000000   0.473630725\n",
    "   0.000000000   0.473630725   0.473630725\n",
    "  -0.473630725   0.473630725  -0.000000000"
   ]
  },
  {
   "cell_type": "code",
   "execution_count": 3,
   "id": "6dc19312-1e9c-46c1-9fb6-1662b5fa6ec2",
   "metadata": {},
   "outputs": [
    {
     "data": {
      "text/plain": [
       "10.207932774556962"
      ]
     },
     "execution_count": 3,
     "metadata": {},
     "output_type": "execute_result"
    }
   ],
   "source": [
    "10.77625694*0.473630725*1/0.5"
   ]
  },
  {
   "cell_type": "raw",
   "id": "6c8ab25e-2663-4587-829f-1ab8ac93663d",
   "metadata": {},
   "source": [
    "Errore 5/2 % wrt experimental data"
   ]
  }
 ],
 "metadata": {
  "kernelspec": {
   "display_name": "Python 3 (ipykernel)",
   "language": "python",
   "name": "python3"
  },
  "language_info": {
   "codemirror_mode": {
    "name": "ipython",
    "version": 3
   },
   "file_extension": ".py",
   "mimetype": "text/x-python",
   "name": "python",
   "nbconvert_exporter": "python",
   "pygments_lexer": "ipython3",
   "version": "3.10.6"
  }
 },
 "nbformat": 4,
 "nbformat_minor": 5
}
