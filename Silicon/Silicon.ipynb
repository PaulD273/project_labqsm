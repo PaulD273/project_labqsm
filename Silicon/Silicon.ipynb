{
 "cells": [
  {
   "cell_type": "markdown",
   "id": "c86dd265-854a-4bf9-b2a2-aa5285212f88",
   "metadata": {},
   "source": [
    "# SILICON"
   ]
  },
  {
   "cell_type": "markdown",
   "id": "49d92b18-7048-4313-b293-3c2b1b137b7a",
   "metadata": {},
   "source": [
    "Silicon has diamond structure, i.e. fcc Bravais lattice and biatomic basis of atoms of the same type (ibrav = 2).\n",
    "\n",
    "Lattice parameter (alat) = 10.263101844 Bohr, obtained from NIST."
   ]
  },
  {
   "cell_type": "raw",
   "id": "47e796d9-a4ee-4125-b9cb-10528b0332f8",
   "metadata": {},
   "source": [
    "Psueudo potential: Si.pz-vbc.UPF\n",
    "Pseudopotential type: NC \n",
    "Functional type: PERDEW-ZUNGER (LDA) exch-corr\n",
    "Non Linear Core Correction\n",
    "Non relativistic"
   ]
  },
  {
   "cell_type": "markdown",
   "id": "d156705b-92c8-441a-acf7-8852fdfc58c3",
   "metadata": {},
   "source": [
    "## K-points convergence"
   ]
  },
  {
   "cell_type": "markdown",
   "id": "7759e7d6-0348-4fb8-93f0-b5c47293566b",
   "metadata": {},
   "source": [
    "A convergence study for kpoint grid was initially performed with fixed ecut = 40 Ry. Input files for grids of 4, 6, 8 and 12 nk were generated through a BASH script, namely $\\mathbf{kpoints.sh}$.\n",
    "These input files and the corresponding output files are stored in the $\\mathbf{scf\\_nk\\_file}$ directory. The extraction of important data (total energy, IBZ points and computational time) from the input files was automatized through the implementation of the BASH script $\\mathbf{extractk.sh}$, which reports the data in the $\\mathbf{energy\\_nk.txt}$ file.\n",
    "The data contained into energy_nk.txt are then processes using a python code.\n",
    "\n",
    "A more detailed proceding is reported in the $\\mathbf{K\\_points\\_convergence.ipynb}$ file in the scf_nk_file directory."
   ]
  },
  {
   "cell_type": "markdown",
   "id": "c7e0e24c-de40-4578-855b-3eac02c4f9f7",
   "metadata": {},
   "source": [
    "## Energy cutoff convergence"
   ]
  },
  {
   "cell_type": "markdown",
   "id": "a0ebcf55-c633-40de-b9d6-1bfd08fc9379",
   "metadata": {},
   "source": [
    "Having fixed a certain kpoint grid with $nk=8$, a number of pw calculations were run to achieve convergence wrt cutoff energy differences. "
   ]
  },
  {
   "cell_type": "markdown",
   "id": "88aeaa5b-3c24-44ca-bc5d-dc400bee23df",
   "metadata": {},
   "source": [
    "A series of calculations were performed, initially with an unperturbed lattice parameter and then with a 2% stretch. The relative total energies of the two subsystems were subtracted to reach convergence."
   ]
  },
  {
   "cell_type": "code",
   "execution_count": 2,
   "id": "153a5059-cdf3-4af9-8f85-49507ed41d54",
   "metadata": {},
   "outputs": [
    {
     "data": {
      "text/plain": [
       "10.46836388088"
      ]
     },
     "execution_count": 2,
     "metadata": {},
     "output_type": "execute_result"
    }
   ],
   "source": [
    "10.263101844*2/100+10.263101844"
   ]
  },
  {
   "cell_type": "code",
   "execution_count": null,
   "id": "df158c68-207f-4637-933a-8eea5fb94eb0",
   "metadata": {},
   "outputs": [],
   "source": []
  },
  {
   "cell_type": "markdown",
   "id": "9a82051b-ba80-480e-81cb-8334960e44fe",
   "metadata": {},
   "source": [
    "## Relaxation"
   ]
  },
  {
   "cell_type": "markdown",
   "id": "3694c86f-b1ed-48a2-b9f8-03589a43ed1a",
   "metadata": {},
   "source": [
    "The lattice parameter was stretched by 5% and the the system was relaxed, in order to achieve the equilibrium lattice parameter. "
   ]
  },
  {
   "cell_type": "code",
   "execution_count": 1,
   "id": "31b7176a-890b-4ba8-9b8b-72e488690228",
   "metadata": {},
   "outputs": [
    {
     "data": {
      "text/plain": [
       "10.7762569362"
      ]
     },
     "execution_count": 1,
     "metadata": {},
     "output_type": "execute_result"
    }
   ],
   "source": [
    "10.263101844*5/100+10.263101844"
   ]
  }
 ],
 "metadata": {
  "kernelspec": {
   "display_name": "Python 3 (ipykernel)",
   "language": "python",
   "name": "python3"
  },
  "language_info": {
   "codemirror_mode": {
    "name": "ipython",
    "version": 3
   },
   "file_extension": ".py",
   "mimetype": "text/x-python",
   "name": "python",
   "nbconvert_exporter": "python",
   "pygments_lexer": "ipython3",
   "version": "3.10.6"
  }
 },
 "nbformat": 4,
 "nbformat_minor": 5
}
