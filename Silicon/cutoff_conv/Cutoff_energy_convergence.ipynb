{
 "cells": [
  {
   "cell_type": "markdown",
   "id": "83f7eb2e-6a48-4fb9-b4ae-035bba3ed7c1",
   "metadata": {},
   "source": [
    "# Cutoff energy convergence"
   ]
  },
  {
   "cell_type": "code",
   "execution_count": 1,
   "id": "1abc3ec1-cc60-4145-bd14-b23250dfda14",
   "metadata": {},
   "outputs": [],
   "source": [
    "import numpy as np\n",
    "import csv\n",
    "import matplotlib.pyplot as plt"
   ]
  },
  {
   "cell_type": "code",
   "execution_count": 2,
   "id": "7af140dc-4189-4841-98e3-7b718900a499",
   "metadata": {},
   "outputs": [],
   "source": [
    "#import homemade python function\n",
    "import sys \n",
    "import os\n",
    "sys.path.append(os.path.abspath(\"/home/paolo/project_labqsm/Silicon\"))\n",
    "import read_file "
   ]
  },
  {
   "cell_type": "code",
   "execution_count": 3,
   "id": "12a95287-031b-4a6e-a87f-d0fdcd299793",
   "metadata": {},
   "outputs": [
    {
     "name": "stdout",
     "output_type": "stream",
     "text": [
      "[[ 40.         -15.85274849 -15.84834637   1.64      ]\n",
      " [ 50.         -15.85306295 -15.84866697   2.75      ]\n",
      " [ 60.         -15.85312298 -15.84872838   2.72      ]\n",
      " [ 80.         -15.85313041 -15.84873597   5.94      ]\n",
      " [100.         -15.85313076 -15.84873631   6.59      ]\n",
      " [120.         -15.85313092 -15.84873646  11.58      ]]\n"
     ]
    }
   ],
   "source": [
    "data=read_file.read_file('energy_ecut.txt')\n",
    "print(data)"
   ]
  },
  {
   "cell_type": "markdown",
   "id": "15ae08e4-9f1e-47da-a862-a856d7c64d8f",
   "metadata": {},
   "source": [
    "Compute the energy difference between the stretched and unstretched configuration"
   ]
  },
  {
   "cell_type": "code",
   "execution_count": 4,
   "id": "892f2999-8547-41f1-91d4-2dc954f5b82a",
   "metadata": {},
   "outputs": [
    {
     "name": "stdout",
     "output_type": "stream",
     "text": [
      "[0.00440212 0.00439598 0.0043946  0.00439444 0.00439445 0.00439446]\n"
     ]
    }
   ],
   "source": [
    "en_diff=np.abs(data[:,1] - data[:,2])\n",
    "print(en_diff)"
   ]
  },
  {
   "cell_type": "markdown",
   "id": "1b2b9f16-39a1-462a-84f4-bcadc9a5fef1",
   "metadata": {},
   "source": [
    "Compute the difference between subsequent energy differences"
   ]
  },
  {
   "cell_type": "code",
   "execution_count": 5,
   "id": "cb862a1a-cb4d-4237-ac38-1f7c749eb329",
   "metadata": {},
   "outputs": [
    {
     "name": "stdout",
     "output_type": "stream",
     "text": [
      "[6.14000000e-06 1.38000000e-06 1.59999999e-07 1.00000008e-08\n",
      " 9.99999905e-09]\n"
     ]
    }
   ],
   "source": [
    "th=np.abs(np.diff(en_diff))\n",
    "print(th)"
   ]
  },
  {
   "cell_type": "code",
   "execution_count": 6,
   "id": "dfea9c78-b2bc-4b3e-a496-7c92f8c39316",
   "metadata": {},
   "outputs": [
    {
     "data": {
      "text/plain": [
       "Text(0, 0.5, 'Energy differences [Ry]')"
      ]
     },
     "execution_count": 6,
     "metadata": {},
     "output_type": "execute_result"
    },
    {
     "data": {
      "image/png": "[encoded data removed]",
      "text/plain": [
       "<Figure size 432x288 with 1 Axes>"
      ]
     },
     "metadata": {
      "needs_background": "light"
     },
     "output_type": "display_data"
    }
   ],
   "source": [
    "plt.plot(data[1:,0],th,marker=\"o\")\n",
    "plt.yscale('log')\n",
    "plt.xlabel(r\"Energy cutoff [Ry]\")\n",
    "plt.ylabel(r\"Energy differences [Ry]\")"
   ]
  },
  {
   "cell_type": "markdown",
   "id": "2d19d145-0213-45a5-8581-56f80ec2c4a6",
   "metadata": {},
   "source": [
    "With $\\mathbf{ecut=60 \\ Ry}$ we already reach a satisfactory convergence, below 0.1 mRy/atom."
   ]
  },
  {
   "cell_type": "code",
   "execution_count": 7,
   "id": "402a7a3a-4f13-4b12-865d-963703eccced",
   "metadata": {},
   "outputs": [
    {
     "data": {
      "text/plain": [
       "Text(0.5, 0, 'Energy cutoff [Ry]')"
      ]
     },
     "execution_count": 7,
     "metadata": {},
     "output_type": "execute_result"
    },
    {
     "data": {
      "image/png": "[encoded data removed]",
      "text/plain": [
       "<Figure size 432x288 with 1 Axes>"
      ]
     },
     "metadata": {
      "needs_background": "light"
     },
     "output_type": "display_data"
    }
   ],
   "source": [
    "plt.plot(data[:,0],data[:,3],marker=\"o\")\n",
    "plt.ylabel(r\"CPU time[s]\")\n",
    "plt.xlabel(r\"Energy cutoff [Ry]\")"
   ]
  },
  {
   "cell_type": "code",
   "execution_count": null,
   "id": "c330b3bf-97e5-4f0b-ab19-cc89e45f5e85",
   "metadata": {},
   "outputs": [],
   "source": []
  }
 ],
 "metadata": {
  "kernelspec": {
   "display_name": "Python 3 (ipykernel)",
   "language": "python",
   "name": "python3"
  },
  "language_info": {
   "codemirror_mode": {
    "name": "ipython",
    "version": 3
   },
   "file_extension": ".py",
   "mimetype": "text/x-python",
   "name": "python",
   "nbconvert_exporter": "python",
   "pygments_lexer": "ipython3",
   "version": "3.10.6"
  }
 },
 "nbformat": 4,
 "nbformat_minor": 5
}
