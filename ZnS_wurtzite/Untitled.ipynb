{
 "cells": [
  {
   "cell_type": "code",
   "execution_count": 2,
   "id": "295647d4-f319-4ac8-b8ee-6df20984b995",
   "metadata": {},
   "outputs": [],
   "source": [
    "import numpy as np"
   ]
  },
  {
   "cell_type": "code",
   "execution_count": null,
   "id": "1d3ce7e2-4242-4ae7-8bf4-fee300a61020",
   "metadata": {},
   "outputs": [],
   "source": [
    "celldm(1) = 7.2187532764\n",
    "celldm(3) = 11.829684689"
   ]
  },
  {
   "cell_type": "markdown",
   "id": "88081b3f-b94d-4bdd-82da-63651a0df778",
   "metadata": {},
   "source": [
    "$c/a$"
   ]
  },
  {
   "cell_type": "code",
   "execution_count": 1,
   "id": "ab863859-30d3-414f-9f63-305f21a90779",
   "metadata": {},
   "outputs": [
    {
     "data": {
      "text/plain": [
       "1.638743455559611"
      ]
     },
     "execution_count": 1,
     "metadata": {},
     "output_type": "execute_result"
    }
   ],
   "source": [
    "11.829684689/7.2187532764 "
   ]
  },
  {
   "cell_type": "markdown",
   "id": "672bfb26-f8d3-478f-9b71-79487bc4824b",
   "metadata": {},
   "source": [
    "$u=a^{2}/c^{2}$"
   ]
  },
  {
   "cell_type": "code",
   "execution_count": 7,
   "id": "67e3fb29-fa10-4893-abc6-399950350966",
   "metadata": {},
   "outputs": [
    {
     "data": {
      "text/plain": [
       "0.37237289343801994"
      ]
     },
     "execution_count": 7,
     "metadata": {},
     "output_type": "execute_result"
    }
   ],
   "source": [
    "7.2187532764**2/11.829684689**2"
   ]
  },
  {
   "cell_type": "code",
   "execution_count": null,
   "id": "98470511-0f7e-435e-a514-659dd1c3d17d",
   "metadata": {},
   "outputs": [],
   "source": []
  },
  {
   "cell_type": "raw",
   "id": "8631c77d-4a05-4630-8474-81a64f46409d",
   "metadata": {},
   "source": [
    "Zn  0.000000000  0.000000000  0.000000000\n",
    " Zn  0.333333333  0.666666667  0.500000000\n",
    " S   0.000000000  0.000000000  0.372372893\n",
    " S   0.333333333  0.666666667  0.500000000+0.372372893"
   ]
  },
  {
   "cell_type": "raw",
   "id": "ff5f59dc-d9b8-4dc8-be52-07a078be6de6",
   "metadata": {},
   "source": []
  }
 ],
 "metadata": {
  "kernelspec": {
   "display_name": "Python 3 (ipykernel)",
   "language": "python",
   "name": "python3"
  },
  "language_info": {
   "codemirror_mode": {
    "name": "ipython",
    "version": 3
   },
   "file_extension": ".py",
   "mimetype": "text/x-python",
   "name": "python",
   "nbconvert_exporter": "python",
   "pygments_lexer": "ipython3",
   "version": "3.10.6"
  }
 },
 "nbformat": 4,
 "nbformat_minor": 5
}
