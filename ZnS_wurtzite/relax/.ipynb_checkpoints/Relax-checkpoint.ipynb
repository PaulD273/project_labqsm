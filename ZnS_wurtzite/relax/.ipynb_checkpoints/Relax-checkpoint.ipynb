{
 "cells": [
  {
   "cell_type": "markdown",
   "id": "37110719-ae89-4f19-b4a8-352bf2ebaf98",
   "metadata": {},
   "source": [
    "# Relaxation"
   ]
  },
  {
   "cell_type": "code",
   "execution_count": 1,
   "id": "f36b3cd1-303d-480b-ac17-62e40121fb44",
   "metadata": {},
   "outputs": [],
   "source": [
    "import numpy as np"
   ]
  },
  {
   "cell_type": "markdown",
   "id": "d1eb8873-79fb-4ead-9a04-302b31905f07",
   "metadata": {},
   "source": [
    "A vc-relax calculation was permormed to obtain the relaxed lattice parameter. We started from a lattice parameter stretched by 5%."
   ]
  },
  {
   "cell_type": "code",
   "execution_count": 2,
   "id": "6c8a37b4-974e-4070-9c58-81e2b0d11028",
   "metadata": {},
   "outputs": [
    {
     "data": {
      "text/plain": [
       "10.754430600900001"
      ]
     },
     "execution_count": 2,
     "metadata": {},
     "output_type": "execute_result"
    }
   ],
   "source": [
    "10.242314858+10.242314858*5/100"
   ]
  },
  {
   "cell_type": "raw",
   "id": "6252656e-fa15-4920-be56-4740ba43a0a1",
   "metadata": {},
   "source": [
    "CELL_PARAMETERS (alat= 10.75443060)\n",
    "  -0.478162002  -0.000000000   0.478162002\n",
    "   0.000000000   0.478162002   0.478162002\n",
    "  -0.478162002   0.478162002  -0.000000000"
   ]
  },
  {
   "cell_type": "markdown",
   "id": "e7032917-6d31-4eb5-b458-949491fcfa75",
   "metadata": {},
   "source": [
    "Relaxed value of alat"
   ]
  },
  {
   "cell_type": "code",
   "execution_count": 3,
   "id": "6dc19312-1e9c-46c1-9fb6-1662b5fa6ec2",
   "metadata": {},
   "outputs": [
    {
     "data": {
      "text/plain": [
       "10.28472013213212"
      ]
     },
     "execution_count": 3,
     "metadata": {},
     "output_type": "execute_result"
    }
   ],
   "source": [
    "10.75443060*0.478162002*1/0.5"
   ]
  },
  {
   "cell_type": "code",
   "execution_count": null,
   "id": "ef6cde26-1828-43a1-90ff-19e0ee5e9b33",
   "metadata": {},
   "outputs": [],
   "source": []
  },
  {
   "cell_type": "markdown",
   "id": "997ca760-3fd1-4682-b1bd-62033f034ad2",
   "metadata": {},
   "source": [
    "The difference between the relaxed and measured value of the lattice parameter"
   ]
  },
  {
   "cell_type": "code",
   "execution_count": 6,
   "id": "aa1a2c7b-9804-4926-8245-5752e540b3df",
   "metadata": {},
   "outputs": [
    {
     "data": {
      "text/plain": [
       "0.04240527413212014"
      ]
     },
     "execution_count": 6,
     "metadata": {},
     "output_type": "execute_result"
    }
   ],
   "source": [
    "np.abs(10.28472013213212-10.242314858)"
   ]
  },
  {
   "cell_type": "code",
   "execution_count": 8,
   "id": "61f376e5-d640-45f4-b696-ca35e37771e7",
   "metadata": {},
   "outputs": [
    {
     "data": {
      "text/plain": [
       "0.10242314858"
      ]
     },
     "execution_count": 8,
     "metadata": {},
     "output_type": "execute_result"
    }
   ],
   "source": [
    "10.242314858*1/100"
   ]
  },
  {
   "cell_type": "markdown",
   "id": "3b5abeb4-effa-4abe-85b6-a1a7c82b7446",
   "metadata": {},
   "source": [
    "Within a 1 % wrt experimental data"
   ]
  },
  {
   "cell_type": "code",
   "execution_count": null,
   "id": "c625454c-cfdc-43db-8661-bb759699d480",
   "metadata": {},
   "outputs": [],
   "source": []
  }
 ],
 "metadata": {
  "kernelspec": {
   "display_name": "Python 3 (ipykernel)",
   "language": "python",
   "name": "python3"
  },
  "language_info": {
   "codemirror_mode": {
    "name": "ipython",
    "version": 3
   },
   "file_extension": ".py",
   "mimetype": "text/x-python",
   "name": "python",
   "nbconvert_exporter": "python",
   "pygments_lexer": "ipython3",
   "version": "3.11.0"
  }
 },
 "nbformat": 4,
 "nbformat_minor": 5
}
