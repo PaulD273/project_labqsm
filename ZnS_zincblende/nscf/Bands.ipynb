{
 "cells": [
  {
   "cell_type": "markdown",
   "id": "bbb5acc3-281d-44ad-a828-70c5a358269f",
   "metadata": {},
   "source": [
    "# Bands"
   ]
  },
  {
   "cell_type": "code",
   "execution_count": 1,
   "id": "efe2e7fe-6848-4b50-9bb2-7a9984d41e37",
   "metadata": {},
   "outputs": [],
   "source": [
    "import numpy as np\n",
    "import csv\n",
    "import matplotlib.pyplot as plt"
   ]
  },
  {
   "cell_type": "code",
   "execution_count": 2,
   "id": "4a00f20d-71af-4681-99b3-def82998be4b",
   "metadata": {},
   "outputs": [],
   "source": [
    "#%matplotlib widget"
   ]
  },
  {
   "cell_type": "code",
   "execution_count": 3,
   "id": "cc35d615-93fe-430d-a653-350f7d4ae0d7",
   "metadata": {},
   "outputs": [
    {
     "name": "stdout",
     "output_type": "stream",
     "text": [
      "[[ 0.000000e+00 -1.176816e+02]\n",
      " [ 2.500000e-02 -1.176816e+02]\n",
      " [ 5.000000e-02 -1.176816e+02]\n",
      " ...\n",
      " [ 3.934300e+00  1.367160e+01]\n",
      " [ 3.960800e+00  1.364970e+01]\n",
      " [ 3.987300e+00  1.364230e+01]]\n"
     ]
    }
   ],
   "source": [
    "data = []\n",
    "with open('bands_zns.dat.gnu','r') as file :\n",
    "    csv_reader = csv.reader(file, delimiter=' ', skipinitialspace=True)\n",
    "    for row in csv_reader:\n",
    "        if any(row):\n",
    "            data.append(row)\n",
    "            \n",
    "    f=np.asarray(data, dtype='f8')\n",
    "                        \n",
    "print(f)"
   ]
  },
  {
   "cell_type": "code",
   "execution_count": 4,
   "id": "141c60da-88b1-437d-907c-00118f7b1c4e",
   "metadata": {},
   "outputs": [
    {
     "data": {
      "image/png": "[encoded data removed]",
      "text/plain": [
       "<Figure size 432x288 with 1 Axes>"
      ]
     },
     "metadata": {
      "needs_background": "light"
     },
     "output_type": "display_data"
    }
   ],
   "source": [
    "fig, ax = plt.subplots()\n",
    "#plt.scatter(f[:,0],f[:,1]-4.7848,marker=\".\")\n",
    "plt.scatter(f[:2613,0],f[:2613,1]-7.2019,marker=\".\",color='r', s=16)\n",
    "plt.scatter(f[2613:,0],f[2613:,1]-7.2019,marker=\".\",color='b', s=16)\n",
    "plt.ylabel(r\"Energy [eV]\")\n",
    "plt.xlabel(r\"BZ path\")\n",
    "ax.set_xticks(ticks=[0, 1, 3.9873, 2.5731, 2.9267], labels = ['L', '$\\Gamma$', '$\\Gamma$', 'X', 'K'])\n",
    "plt.axvline(x=1, linewidth=0.5, color='k')\n",
    "plt.axvline(x=2.5731, linewidth=0.5, color='k')\n",
    "plt.axvline(x=2.9267, linewidth=0.5, color='k')\n",
    "plt.axhline(y=0, linewidth=1, color='k', ls='--')\n",
    "plt.axhline(y=2.0169999999999995, linewidth=1, color='k', ls='--')\n",
    "\n",
    "ax.annotate('$\\Lambda$',\n",
    "            xy=(83, 21), xycoords='figure pixels')\n",
    "\n",
    "ax.annotate('$\\Delta$',\n",
    "            xy=(183, 21), xycoords='figure pixels')\n",
    "\n",
    "ax.annotate('$\\Sigma$',\n",
    "            xy=(320, 21), xycoords='figure pixels')\n",
    "ax.set_ylim(-7,9)\n",
    "ax.set_xlim(0,3.9873)\n",
    "#plt.savefig('bands_zns.pdf')\n",
    "#plt.legend()"
   ]
  },
  {
   "cell_type": "raw",
   "id": "f30e90cc-2190-40a3-bcf9-4eede0359c03",
   "metadata": {},
   "source": [
    "     high-symmetry point:  0.0000 0.0000 1.0000   x coordinate   0.0000\n",
    "     high-symmetry point:  0.0000 0.0000 0.0000   x coordinate   1.0000\n",
    "     high-symmetry point: -0.5000 0.5000 0.5000   x coordinate   1.8660\n",
    "     high-symmetry point: -0.5000 0.0000 1.0000   x coordinate   2.5731\n",
    "     high-symmetry point: -0.7500 0.0000 0.7500   x coordinate   2.9267\n",
    "     high-symmetry point:  0.0000 0.0000 0.0000   x coordinate   3.9873"
   ]
  },
  {
   "cell_type": "raw",
   "id": "2f1e1793-7eeb-4b74-b737-a8331bfa4c83",
   "metadata": {},
   "source": [
    " 0.500  0.500  0.000   40    # X \n",
    " 0.000  0.000  0.000   40    # G \n",
    " 0.500  0.500  0.500   40    # L \n",
    " 0.750  0.500  0.250   40    # W \n",
    " 0.750  0.375  0.375   40    # K \n",
    " 0.000  0.000  0.000    1    # G"
   ]
  },
  {
   "cell_type": "code",
   "execution_count": null,
   "id": "f783db35-a920-47dc-b801-effdca0a8859",
   "metadata": {},
   "outputs": [],
   "source": []
  }
 ],
 "metadata": {
  "kernelspec": {
   "display_name": "Python 3 (ipykernel)",
   "language": "python",
   "name": "python3"
  },
  "language_info": {
   "codemirror_mode": {
    "name": "ipython",
    "version": 3
   },
   "file_extension": ".py",
   "mimetype": "text/x-python",
   "name": "python",
   "nbconvert_exporter": "python",
   "pygments_lexer": "ipython3",
   "version": "3.11.0"
  }
 },
 "nbformat": 4,
 "nbformat_minor": 5
}
